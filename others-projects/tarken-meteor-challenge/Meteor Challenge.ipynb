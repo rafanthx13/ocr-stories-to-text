{
 "cells": [
  {
   "cell_type": "markdown",
   "id": "8cb513a2",
   "metadata": {},
   "source": [
    "# Meteor Challenge\n",
    "\n",
    "Novembro de 2022\n",
    "\n",
    "---\n",
    "\n",
    "Tasks:\n",
    "+ Count the number of Stars\n",
    "+ Count the number of Meteors\n",
    "+ If the Meteors are falling perpendicularly to the Ground (Water level), count how many will fall on the Water\n",
    "+ (optional) Find the phrase that is hidden in the dots in the sky. \n",
    "  - HINT 1: 177 Characters\n",
    "  - HINT 2: Most of the last tasks’ code can be reused for this one\n",
    "\n",
    "Please, send us the result and code you used to solve the tasks above. Explain how you achieved the results in each question. Good work!!\n",
    "\n",
    "---"
   ]
  },
  {
   "cell_type": "markdown",
   "id": "186acf1b",
   "metadata": {},
   "source": [
    "# Import Data and Libs"
   ]
  },
  {
   "cell_type": "code",
   "execution_count": 1,
   "id": "b38bca94",
   "metadata": {
    "ExecuteTime": {
     "end_time": "2022-11-09T23:52:59.680487Z",
     "start_time": "2022-11-09T23:52:57.138761Z"
    }
   },
   "outputs": [],
   "source": [
    "import numpy as np \n",
    "import pandas as pd \n",
    "import seaborn as sns\n",
    "import matplotlib.pyplot as plt\n",
    "%matplotlib inline\n",
    "\n",
    "import os\n",
    "import pathlib\n",
    "import warnings\n",
    "warnings.filterwarnings('ignore')\n",
    "\n",
    "# Libs de visão computacional\n",
    "import cv2 # open-cv"
   ]
  },
  {
   "cell_type": "code",
   "execution_count": 2,
   "id": "c5d8b0c3",
   "metadata": {
    "ExecuteTime": {
     "end_time": "2022-11-09T23:52:59.701304Z",
     "start_time": "2022-11-09T23:52:59.683825Z"
    }
   },
   "outputs": [
    {
     "data": {
      "text/plain": [
       "'./image_meteor/meteor_challenge.png'"
      ]
     },
     "execution_count": 2,
     "metadata": {},
     "output_type": "execute_result"
    }
   ],
   "source": [
    "# Buscar Imagem\n",
    "seach_file = 'meteor_challenge.png'\n",
    "image_path = ''\n",
    "for dirname, _, filenames in os.walk('./'):\n",
    "    for filename in filenames:\n",
    "        if(filename == seach_file):\n",
    "            path_to_file = os.path.join(dirname, filename)\n",
    "            image_path = path_to_file\n",
    "            \n",
    "image_path"
   ]
  },
  {
   "cell_type": "markdown",
   "id": "2120e43f",
   "metadata": {},
   "source": [
    "# Functions"
   ]
  },
  {
   "cell_type": "code",
   "execution_count": 3,
   "id": "44d5b024",
   "metadata": {
    "ExecuteTime": {
     "end_time": "2022-11-09T23:52:59.857903Z",
     "start_time": "2022-11-09T23:52:59.705656Z"
    }
   },
   "outputs": [],
   "source": [
    "# Mostra uma imagem\n",
    "def cv_show_image(file_path, scale=cv2.COLOR_BGR2RGB):\n",
    "    cv_image = cv2.imread(file_path)\n",
    "    cv_image = cv2.cvtColor(cv_image, scale) # BGR -> RGB\n",
    "    plt.imshow(cv_image)\n",
    "    plt.xticks([])\n",
    "    plt.yticks([])\n",
    "    print('Original Image Shape', cv_image.shape)"
   ]
  },
  {
   "cell_type": "code",
   "execution_count": 4,
   "id": "89af9ac9",
   "metadata": {
    "ExecuteTime": {
     "end_time": "2022-11-09T23:52:59.927585Z",
     "start_time": "2022-11-09T23:52:59.862126Z"
    }
   },
   "outputs": [],
   "source": [
    "# Recebe um código rgb em numpy. Ex: [ 2, 119, 189]\n",
    "# + Pode ser necessário usar '.astype('uint8')' no np.array\n",
    "def cv_print_pixel_color(rgb_code):\n",
    "    plt.imshow(rgb_code.reshape(1, 1, 3))\n",
    "    plt.xticks([])\n",
    "    plt.yticks([])\n",
    "    plt.show();"
   ]
  },
  {
   "cell_type": "code",
   "execution_count": 5,
   "id": "f5caefc0",
   "metadata": {
    "ExecuteTime": {
     "end_time": "2022-11-09T23:53:00.004869Z",
     "start_time": "2022-11-09T23:52:59.931702Z"
    }
   },
   "outputs": [],
   "source": [
    "# Printa uma lista de pixels. Ex: [ [255, 255, 255], [1, 2, 3] ..]\n",
    "def cv_print_list_pixels(array_pixels):\n",
    "    plt.imshow(array_pixels.reshape(1, len(array_pixels), 3))\n",
    "    plt.xticks([])\n",
    "    plt.yticks([])\n",
    "    plt.show();"
   ]
  },
  {
   "cell_type": "code",
   "execution_count": 6,
   "id": "cdfc7f3c",
   "metadata": {
    "ExecuteTime": {
     "end_time": "2022-11-09T23:53:00.105306Z",
     "start_time": "2022-11-09T23:53:00.008426Z"
    }
   },
   "outputs": [],
   "source": [
    "def print_shape_array(nparray):\n",
    "    print('Type:', type(nparray), '| Shape:', nparray.shape)"
   ]
  },
  {
   "cell_type": "markdown",
   "id": "14402936",
   "metadata": {},
   "source": [
    "# Resolvendo o desafio"
   ]
  },
  {
   "cell_type": "markdown",
   "id": "f5e6937f",
   "metadata": {},
   "source": [
    "## Imagem do desafio"
   ]
  },
  {
   "cell_type": "code",
   "execution_count": 7,
   "id": "c12b364e",
   "metadata": {
    "ExecuteTime": {
     "end_time": "2022-11-09T23:53:00.538369Z",
     "start_time": "2022-11-09T23:53:00.110573Z"
    }
   },
   "outputs": [
    {
     "name": "stdout",
     "output_type": "stream",
     "text": [
      "Original Image Shape (704, 704, 3)\n"
     ]
    },
    {
     "data": {
      "image/png": "[encoded data removed]",
      "text/plain": [
       "<Figure size 432x288 with 1 Axes>"
      ]
     },
     "metadata": {},
     "output_type": "display_data"
    }
   ],
   "source": [
    "# Mostrar imagem\n",
    "cv_show_image(image_path)"
   ]
  },
  {
   "cell_type": "code",
   "execution_count": 8,
   "id": "3febc2a5",
   "metadata": {
    "ExecuteTime": {
     "end_time": "2022-11-09T23:53:00.563578Z",
     "start_time": "2022-11-09T23:53:00.543835Z"
    }
   },
   "outputs": [],
   "source": [
    "# Carregar Imagem\n",
    "cv_image = cv2.imread(image_path)\n",
    "cv_image = cv2.cvtColor(cv_image, cv2.COLOR_BGR2RGB) # BGR -> RGB"
   ]
  },
  {
   "cell_type": "markdown",
   "id": "1bd39e23",
   "metadata": {},
   "source": [
    "### Investigar a Imagem Manualmente\n",
    "\n",
    "O código a seguir abre uma janela que mostra toda a imagem, com a opçâo de zoom e podendno ver o código RGB para cada pixel.\n",
    "\n",
    "Ao dar o zoom máximo podemos perceber que\n",
    "\n",
    "+ Estrelas ==> cor branca: RGB `255, 255, 255`\n",
    "+ Meteoro  ==> cor vermelha: RGB `255, 0, 0`\n",
    "+ Água     ==> cor azul: RGB `0, 0, 255`\n",
    "\n",
    "Dessa forma o desafioserá resolvido da seguinte forma\n",
    "+ Contagem de piexels vermelhos e brancos, poissão respectivamente as estrelas e os meteoros\n",
    "+ Encontrar o intervalo onde está a àgua e ver para cada meteoro se está emcima da água (comparando se têm o mesmo valor no eixo x)"
   ]
  },
  {
   "cell_type": "code",
   "execution_count": 9,
   "id": "afd1acf3",
   "metadata": {
    "ExecuteTime": {
     "end_time": "2022-11-09T23:53:00.644891Z",
     "start_time": "2022-11-09T23:53:00.567728Z"
    }
   },
   "outputs": [],
   "source": [
    "# VER A IMAGEM EM UMA JANELA\n",
    "# !! ABERTE ALGUM BOTÃO PARA SAIR DA JANELA,\n",
    "# !! SE NÃO INTERROMPE O KERNEL\n",
    "\n",
    "# cv_image_window = cv2.imread(image_path)\n",
    "# cv2.imshow(\"Original\", cv_image_window)\n",
    "# cv2.waitKey(0)\n",
    "# cv2.destroyAllWindows()"
   ]
  },
  {
   "cell_type": "code",
   "execution_count": 10,
   "id": "3bd51f8d",
   "metadata": {
    "ExecuteTime": {
     "end_time": "2022-11-09T23:53:00.828563Z",
     "start_time": "2022-11-09T23:53:00.649270Z"
    }
   },
   "outputs": [
    {
     "data": {
      "image/png": "[encoded data removed]",
      "text/plain": [
       "<Figure size 432x288 with 1 Axes>"
      ]
     },
     "metadata": {},
     "output_type": "display_data"
    }
   ],
   "source": [
    "# Definindo as principais cores da imagem\n",
    "white = [255, 255, 255]\n",
    "red = [255, 0, 0]\n",
    "blue = [0, 0, 255]\n",
    "black = [0, 0, 0]\n",
    "blue_sky = [2, 119, 189]\n",
    "\n",
    "cv_print_list_pixels(np.array([white, red, blue, black, blue_sky]))"
   ]
  },
  {
   "cell_type": "markdown",
   "id": "4ad5ab9d",
   "metadata": {},
   "source": [
    "## Contagem de Estrelas e Meteoros"
   ]
  },
  {
   "cell_type": "markdown",
   "id": "2bc527e6",
   "metadata": {},
   "source": [
    "Será usado `np.unqiue` para não só contar os valores únicos como tambem o nseu número de ocorrencias. Para fazer isso altera-se o `np.array` para uma unica dimensão com `.reshape(-1,3)`.\n",
    "\n",
    "Retorna `unique` que tem uma lista de pixels únicos e em  `counts` a contagem."
   ]
  },
  {
   "cell_type": "code",
   "execution_count": 11,
   "id": "780fa55b",
   "metadata": {
    "ExecuteTime": {
     "end_time": "2022-11-09T23:53:01.727446Z",
     "start_time": "2022-11-09T23:53:00.832896Z"
    }
   },
   "outputs": [],
   "source": [
    "unique, counts = np.unique(\n",
    "    cv_image.reshape(-1, 3),\n",
    "    axis = 0, \n",
    "    return_counts=True\n",
    ")\n",
    "unique_list = unique.tolist()"
   ]
  },
  {
   "cell_type": "code",
   "execution_count": 12,
   "id": "9e4e9611",
   "metadata": {
    "ExecuteTime": {
     "end_time": "2022-11-09T23:53:01.827295Z",
     "start_time": "2022-11-09T23:53:01.731321Z"
    }
   },
   "outputs": [
    {
     "name": "stdout",
     "output_type": "stream",
     "text": [
      "[[  0   0   0]\n",
      " [  0   0 255]\n",
      " [  1   1   1]\n",
      " [  2   2   2]\n",
      " [  2 119 188]] \n",
      "\n",
      "[135875   1535    116     11     29]\n"
     ]
    }
   ],
   "source": [
    "# Observando valores de `unique` e `counts`\n",
    "val = 5\n",
    "print(unique[:val], '\\n')\n",
    "print(counts[:val])"
   ]
  },
  {
   "cell_type": "markdown",
   "id": "b92b7f47",
   "metadata": {},
   "source": [
    "A linhas 163 tem um meteoro"
   ]
  },
  {
   "cell_type": "code",
   "execution_count": 13,
   "id": "0997ae28",
   "metadata": {
    "ExecuteTime": {
     "end_time": "2022-11-09T23:53:02.032391Z",
     "start_time": "2022-11-09T23:53:01.831616Z"
    }
   },
   "outputs": [
    {
     "data": {
      "image/png": "[encoded data removed]",
      "text/plain": [
       "<Figure size 432x288 with 1 Axes>"
      ]
     },
     "metadata": {},
     "output_type": "display_data"
    }
   ],
   "source": [
    "# 8 primeiros pixels da linha 263 (onde possui um metoro)\n",
    "cv_print_list_pixels(cv_image[163][:8])"
   ]
  },
  {
   "cell_type": "markdown",
   "id": "979488ad",
   "metadata": {},
   "source": [
    "**Contando as ocorrências para branco e vermelho**"
   ]
  },
  {
   "cell_type": "code",
   "execution_count": 14,
   "id": "764fad5d",
   "metadata": {
    "ExecuteTime": {
     "end_time": "2022-11-09T23:53:02.070891Z",
     "start_time": "2022-11-09T23:53:02.036636Z"
    }
   },
   "outputs": [
    {
     "name": "stdout",
     "output_type": "stream",
     "text": [
      "Contagem de Estrelas: 315\n",
      "Contagem de Meteoros: 328\n"
     ]
    }
   ],
   "source": [
    "idx_white = unique_list.index(white)\n",
    "print('Contagem de Estrelas:', counts[idx_white])\n",
    "\n",
    "idx_red = unique_list.index(red)\n",
    "print('Contagem de Meteoros:', counts[idx_red])"
   ]
  },
  {
   "cell_type": "markdown",
   "id": "e0f8165e",
   "metadata": {},
   "source": [
    "## Contagem de meteoros que caem na água\n",
    "\n",
    "Após analisar a imagem usando o software `KolourPaint` (mas também pode ser feito pelo `Paint` do window) pode-se observar que:\n",
    "\n",
    "**A superfície da água é a linha 512 da imagem**\n",
    "\n",
    "Com essa informação fica mais fácil calcular os 5 intervalos da água, basta analisar *somente* essa linha."
   ]
  },
  {
   "cell_type": "code",
   "execution_count": 15,
   "id": "aeb38b30",
   "metadata": {
    "ExecuteTime": {
     "end_time": "2022-11-09T23:53:02.156084Z",
     "start_time": "2022-11-09T23:53:02.079123Z"
    }
   },
   "outputs": [],
   "source": [
    "water_line = 512"
   ]
  },
  {
   "cell_type": "code",
   "execution_count": 16,
   "id": "bd8ca625",
   "metadata": {
    "ExecuteTime": {
     "end_time": "2022-11-09T23:53:02.376275Z",
     "start_time": "2022-11-09T23:53:02.160113Z"
    },
    "scrolled": false
   },
   "outputs": [
    {
     "data": {
      "image/png": "[encoded data removed]",
      "text/plain": [
       "<Figure size 432x288 with 1 Axes>"
      ]
     },
     "metadata": {},
     "output_type": "display_data"
    }
   ],
   "source": [
    "# Pegandos os últimos 42 pixels da linha 512 da imagem\n",
    "#   aí pode-se ver um dos intervalos da superfície da água\n",
    "cv_print_list_pixels(cv_image[water_line][-42:])"
   ]
  },
  {
   "cell_type": "markdown",
   "id": "65ab4b8a",
   "metadata": {
    "ExecuteTime": {
     "end_time": "2022-11-09T23:04:42.293067Z",
     "start_time": "2022-11-09T23:04:42.286697Z"
    }
   },
   "source": [
    "**Calculando os 5 intervalos da superfície da água**"
   ]
  },
  {
   "cell_type": "code",
   "execution_count": 17,
   "id": "13e8bc34",
   "metadata": {
    "ExecuteTime": {
     "end_time": "2022-11-09T23:53:02.483888Z",
     "start_time": "2022-11-09T23:53:02.379766Z"
    },
    "scrolled": false
   },
   "outputs": [
    {
     "name": "stdout",
     "output_type": "stream",
     "text": [
      "OS 5 intervalos que contém a água:\n",
      "\n",
      "[(59, 94), (126, 160), (241, 296), (473, 533), (664, 696)]\n"
     ]
    }
   ],
   "source": [
    "ranges, start, end = [], '', ''\n",
    "\n",
    "for idx, el in enumerate(cv_image[water_line]):\n",
    "\n",
    "    is_blue = np.array_equal(el, blue)\n",
    "    \n",
    "    # 1 - Se encontrar terra\n",
    "    if(not is_blue and not start):\n",
    "        continue\n",
    "    \n",
    "    # 3 - Ainda está na água\n",
    "    if(is_blue and start):\n",
    "        continue\n",
    "    \n",
    "    # 4 - Sai da água: salva o intervalo e reseta as variáveis\n",
    "    if(not is_blue and start):\n",
    "        end = idx - 1 # último pixel de água\n",
    "        ranges.append( (start,end) )\n",
    "        start, end = '', ''\n",
    "        continue\n",
    "    \n",
    "    # 2 - Começa o intervalo da água\n",
    "    if( is_blue ):\n",
    "        start = idx\n",
    "        continue\n",
    "        \n",
    "print('OS {} intervalos que contém a água:\\n'.format(len(ranges)))\n",
    "print(ranges)"
   ]
  },
  {
   "cell_type": "markdown",
   "id": "3d2a4247",
   "metadata": {},
   "source": [
    "**Cálculo do número meteoros que caem na água**\n",
    "\n",
    "Obse: Usa-se somente parte da imagem, pois o cálculo é demorado e os meteoros somente na parte superior da image."
   ]
  },
  {
   "cell_type": "code",
   "execution_count": 18,
   "id": "b6ac3e7e",
   "metadata": {
    "ExecuteTime": {
     "end_time": "2022-11-09T23:53:07.490707Z",
     "start_time": "2022-11-09T23:53:02.489870Z"
    }
   },
   "outputs": [
    {
     "name": "stdout",
     "output_type": "stream",
     "text": [
      "Quantos meteoros vão cair na água: 105\n"
     ]
    }
   ],
   "source": [
    "meteors_falls_water = []\n",
    "\n",
    "# lê imagem até 352 pois a parte inferior\n",
    "#   da imagem não tem meteoros\n",
    "for id_y, row in enumerate(cv_image[:352, ::]):\n",
    "    for id_x, pixel in enumerate(row):\n",
    "        \n",
    "        if(np.array_equal(pixel, red)):\n",
    "            for range in ranges:\n",
    "                if(id_x >= range[0] and id_x <= range[1]):\n",
    "                    meteors_falls_water.append([id_x, id_y])\n",
    "                    \n",
    "print('Quantos meteoros vão cair na água:',\n",
    "      len(meteors_falls_water))"
   ]
  },
  {
   "cell_type": "markdown",
   "id": "a3f5d414",
   "metadata": {},
   "source": [
    "# Conclusão\n",
    "\n",
    "| Cases                        | Count |\n",
    "|------------------------------|-------|\n",
    "| Number of Stars              | 315   |\n",
    "| Number of Meteors            | 328   |\n",
    "| Meteors falling on the Water | 105   |"
   ]
  }
 ],
 "metadata": {
  "kernelspec": {
   "display_name": "Python 3",
   "language": "python",
   "name": "python3"
  },
  "language_info": {
   "codemirror_mode": {
    "name": "ipython",
    "version": 3
   },
   "file_extension": ".py",
   "mimetype": "text/x-python",
   "name": "python",
   "nbconvert_exporter": "python",
   "pygments_lexer": "ipython3",
   "version": "3.9.5"
  },
  "toc": {
   "base_numbering": 1,
   "nav_menu": {},
   "number_sections": true,
   "sideBar": true,
   "skip_h1_title": false,
   "title_cell": "Table of Contents",
   "title_sidebar": "Contents",
   "toc_cell": false,
   "toc_position": {},
   "toc_section_display": true,
   "toc_window_display": false
  }
 },
 "nbformat": 4,
 "nbformat_minor": 5
}
