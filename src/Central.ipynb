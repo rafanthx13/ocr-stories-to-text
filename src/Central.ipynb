{
 "cells": [
  {
   "cell_type": "markdown",
   "id": "0b450464",
   "metadata": {},
   "source": [
    "# Central"
   ]
  },
  {
   "cell_type": "markdown",
   "id": "7e73a067",
   "metadata": {},
   "source": [
    "Objetivo: Converter stories em um único arquivod e imagem\n",
    "\n",
    "Parametros de Entrada\n",
    "+ Pasta com o nome do influencer seguido de topico\n",
    "  - Ex: `pedro7c--escandalo-da-direita`\n",
    "+ O que tme dentro da pasta\n",
    "  - Um conjunto de stories, onde o prmiero tem uma caixinha de instagram\n",
    "  \n",
    "Parametros de saida\n",
    "+ Arquivo md com o nome da pasta. Ex: `pedro7c--escandalo-da-direita.md`"
   ]
  },
  {
   "cell_type": "code",
   "execution_count": 34,
   "id": "833269eb",
   "metadata": {
    "ExecuteTime": {
     "end_time": "2022-11-30T19:20:45.550273Z",
     "start_time": "2022-11-30T19:20:45.523476Z"
    }
   },
   "outputs": [],
   "source": [
    "import pytesseract as ocr\n",
    "from PIL import Image\n",
    "import cv2\n",
    "\n",
    "import sys\n",
    "import os\n",
    "import pathlib\n",
    "import warnings\n",
    "warnings.filterwarnings('ignore')\n",
    "\n",
    "from random import randint"
   ]
  },
  {
   "cell_type": "code",
   "execution_count": null,
   "id": "754faf4f",
   "metadata": {},
   "outputs": [],
   "source": []
  },
  {
   "cell_type": "code",
   "execution_count": 38,
   "id": "00dabf08",
   "metadata": {
    "ExecuteTime": {
     "end_time": "2022-11-30T19:23:37.817890Z",
     "start_time": "2022-11-30T19:23:37.797497Z"
    }
   },
   "outputs": [],
   "source": [
    "# Argumentos\n",
    "# seed random number generator\n",
    "int_random = randint(1000, 10000)\n",
    "influencer_name = 'dompatcho'\n",
    "path_to_folder = './stories-imgs/part2/'\n",
    "\n",
    "# if(sys.argv):\n",
    "#     path_to_folder = sys.argv[0]"
   ]
  },
  {
   "cell_type": "code",
   "execution_count": 39,
   "id": "cf678740",
   "metadata": {
    "ExecuteTime": {
     "end_time": "2022-11-30T19:23:38.418612Z",
     "start_time": "2022-11-30T19:23:38.411949Z"
    }
   },
   "outputs": [],
   "source": [
    "# sys.argv"
   ]
  },
  {
   "cell_type": "markdown",
   "id": "07d43b13",
   "metadata": {
    "ExecuteTime": {
     "end_time": "2022-11-30T00:08:32.991425Z",
     "start_time": "2022-11-30T00:08:32.986479Z"
    }
   },
   "source": [
    "# Functions"
   ]
  },
  {
   "cell_type": "code",
   "execution_count": 40,
   "id": "b1be68b8",
   "metadata": {
    "ExecuteTime": {
     "end_time": "2022-11-30T19:23:39.592180Z",
     "start_time": "2022-11-30T19:23:39.572238Z"
    }
   },
   "outputs": [],
   "source": [
    "# Mostra uma imagem\n",
    "def cv_show_image(file_path, scale=cv2.COLOR_BGR2RGB):\n",
    "    cv_image = cv2.imread(file_path)\n",
    "    cv_image = cv2.cvtColor(cv_image, scale) # BGR -> RGB\n",
    "    plt.imshow(cv_image)\n",
    "    plt.xticks([])\n",
    "    plt.yticks([])\n",
    "    print('Original Image Shape', cv_image.shape)"
   ]
  },
  {
   "cell_type": "code",
   "execution_count": 41,
   "id": "096e65c6",
   "metadata": {
    "ExecuteTime": {
     "end_time": "2022-11-30T19:23:39.801322Z",
     "start_time": "2022-11-30T19:23:39.776836Z"
    }
   },
   "outputs": [],
   "source": [
    "# Buscar path da Imagem (no local ou em sub-pastas)\n",
    "def cv_seach_image_path(search_file = 'meteor_challenge.png'):\n",
    "    image_path = ''\n",
    "    for dirname, _, filenames in os.walk('./'):\n",
    "        for filename in filenames:\n",
    "            if(filename == search_file):\n",
    "                path_to_file = os.path.join(dirname, filename)\n",
    "                image_path = path_to_file\n",
    "    if(not image_path):\n",
    "        print('ERROR:', search_file, 'not found!')\n",
    "    else:\n",
    "        print('Find!:', search_file)\n",
    "    return image_path"
   ]
  },
  {
   "cell_type": "code",
   "execution_count": 47,
   "id": "50b0453c",
   "metadata": {
    "ExecuteTime": {
     "end_time": "2022-11-30T19:24:23.239501Z",
     "start_time": "2022-11-30T19:24:23.224189Z"
    }
   },
   "outputs": [],
   "source": [
    "# Buscar path da Imagem (no local ou em sub-pastas)\n",
    "def cv_search_all_files_in_folder(path):\n",
    "    image_path = ''\n",
    "    all_files_path = []\n",
    "    for dirname, _, filenames in os.walk(path):\n",
    "        for filename in filenames:\n",
    "            complete_path = dirname + filename\n",
    "            all_files_path.append(complete_path)\n",
    "\n",
    "    all_files_path = list(\n",
    "        filter(lambda x: '.md' not in x, all_files_path))\n",
    "    \n",
    "    return all_files_path"
   ]
  },
  {
   "cell_type": "code",
   "execution_count": 43,
   "id": "e8c6b5c3",
   "metadata": {
    "ExecuteTime": {
     "end_time": "2022-11-30T19:23:40.389581Z",
     "start_time": "2022-11-30T19:23:40.370224Z"
    }
   },
   "outputs": [],
   "source": [
    "def sts_first_storie_box(first_storie):\n",
    "    # retorna o titulo da caixinha e o texto da aixinha\n",
    "    # Tem que salvar para retirar de outros casos\n",
    "    title_of_box = first_storie.split('\\n\\n')[0]\n",
    "    question = \" \".join( first_storie.split('\\n\\n')[1:3])\n",
    "    text = first_storie.split('\\n\\n \\n\\n')[1]\n",
    "    return title_of_box, question, text"
   ]
  },
  {
   "cell_type": "code",
   "execution_count": 44,
   "id": "05d0a145",
   "metadata": {
    "ExecuteTime": {
     "end_time": "2022-11-30T19:23:41.068715Z",
     "start_time": "2022-11-30T19:23:41.054247Z"
    }
   },
   "outputs": [],
   "source": [
    "def formating_text(astr):\n",
    "    astr = astr.replace('\\n\\n','$%&')\n",
    "    astr = astr.replace('\\n',' ').replace('\\x0c','')\n",
    "    astr = astr.replace('  ',' ')\n",
    "    astr = astr.replace('$%&','\\n\\n')\n",
    "    return astr"
   ]
  },
  {
   "cell_type": "markdown",
   "id": "6bbd29d9",
   "metadata": {},
   "source": [
    "# Lendo Imagens de Storie"
   ]
  },
  {
   "cell_type": "code",
   "execution_count": 48,
   "id": "78678da7",
   "metadata": {
    "ExecuteTime": {
     "end_time": "2022-11-30T19:24:26.118863Z",
     "start_time": "2022-11-30T19:24:26.092507Z"
    }
   },
   "outputs": [
    {
     "data": {
      "text/plain": [
       "['./stories-imgs/part2/Screenshot_20221119-233620.png',\n",
       " './stories-imgs/part2/Screenshot_20221119-233629.png',\n",
       " './stories-imgs/part2/Screenshot_20221119-233638.png',\n",
       " './stories-imgs/part2/Screenshot_20221119-233648.png',\n",
       " './stories-imgs/part2/Screenshot_20221119-233703.png',\n",
       " './stories-imgs/part2/Screenshot_20221119-233736.png',\n",
       " './stories-imgs/part2/Screenshot_20221119-233749.png',\n",
       " './stories-imgs/part2/Screenshot_20221119-233925.png',\n",
       " './stories-imgs/part2/Screenshot_20221119-233929.png',\n",
       " './stories-imgs/part2/Screenshot_20221119-234040.png']"
      ]
     },
     "execution_count": 48,
     "metadata": {},
     "output_type": "execute_result"
    }
   ],
   "source": [
    "all_files = cv_search_all_files_in_folder(path_to_folder)\n",
    "all_files.sort()\n",
    "all_files"
   ]
  },
  {
   "cell_type": "markdown",
   "id": "b147c10d",
   "metadata": {},
   "source": [
    "## First Storie Box"
   ]
  },
  {
   "cell_type": "code",
   "execution_count": 49,
   "id": "19fd547e",
   "metadata": {
    "ExecuteTime": {
     "end_time": "2022-11-30T19:24:43.880423Z",
     "start_time": "2022-11-30T19:24:29.989007Z"
    }
   },
   "outputs": [],
   "source": [
    "first_storie = ocr.image_to_string(\n",
    "    Image.open( all_files[0] ), lang='por'\n",
    ")"
   ]
  },
  {
   "cell_type": "code",
   "execution_count": 50,
   "id": "8aa26d31",
   "metadata": {
    "ExecuteTime": {
     "end_time": "2022-11-30T19:24:52.217780Z",
     "start_time": "2022-11-30T19:24:52.134653Z"
    }
   },
   "outputs": [
    {
     "ename": "IndexError",
     "evalue": "list index out of range",
     "output_type": "error",
     "traceback": [
      "\u001b[0;31m---------------------------------------------------------------------------\u001b[0m",
      "\u001b[0;31mIndexError\u001b[0m                                Traceback (most recent call last)",
      "\u001b[0;32m<ipython-input-50-296b18c53cc6>\u001b[0m in \u001b[0;36m<module>\u001b[0;34m\u001b[0m\n\u001b[0;32m----> 1\u001b[0;31m \u001b[0mtitle_of_box\u001b[0m\u001b[0;34m,\u001b[0m \u001b[0mquestion\u001b[0m\u001b[0;34m,\u001b[0m \u001b[0mtext\u001b[0m \u001b[0;34m=\u001b[0m \u001b[0msts_first_storie_box\u001b[0m\u001b[0;34m(\u001b[0m\u001b[0mfirst_storie\u001b[0m\u001b[0;34m)\u001b[0m\u001b[0;34m\u001b[0m\u001b[0;34m\u001b[0m\u001b[0m\n\u001b[0m\u001b[1;32m      2\u001b[0m \u001b[0;34m\u001b[0m\u001b[0m\n\u001b[1;32m      3\u001b[0m \u001b[0mquestion\u001b[0m \u001b[0;34m=\u001b[0m \u001b[0mquestion\u001b[0m\u001b[0;34m.\u001b[0m\u001b[0mreplace\u001b[0m\u001b[0;34m(\u001b[0m\u001b[0;34m'\\n'\u001b[0m\u001b[0;34m,\u001b[0m\u001b[0;34m''\u001b[0m\u001b[0;34m)\u001b[0m\u001b[0;34m\u001b[0m\u001b[0;34m\u001b[0m\u001b[0m\n\u001b[1;32m      4\u001b[0m \u001b[0mtext\u001b[0m \u001b[0;34m=\u001b[0m \u001b[0mformating_text\u001b[0m\u001b[0;34m(\u001b[0m\u001b[0mtext\u001b[0m\u001b[0;34m)\u001b[0m\u001b[0;34m\u001b[0m\u001b[0;34m\u001b[0m\u001b[0m\n",
      "\u001b[0;32m<ipython-input-43-573927512ab7>\u001b[0m in \u001b[0;36msts_first_storie_box\u001b[0;34m(first_storie)\u001b[0m\n\u001b[1;32m      4\u001b[0m     \u001b[0mtitle_of_box\u001b[0m \u001b[0;34m=\u001b[0m \u001b[0mfirst_storie\u001b[0m\u001b[0;34m.\u001b[0m\u001b[0msplit\u001b[0m\u001b[0;34m(\u001b[0m\u001b[0;34m'\\n\\n'\u001b[0m\u001b[0;34m)\u001b[0m\u001b[0;34m[\u001b[0m\u001b[0;36m0\u001b[0m\u001b[0;34m]\u001b[0m\u001b[0;34m\u001b[0m\u001b[0;34m\u001b[0m\u001b[0m\n\u001b[1;32m      5\u001b[0m     \u001b[0mquestion\u001b[0m \u001b[0;34m=\u001b[0m \u001b[0;34m\" \"\u001b[0m\u001b[0;34m.\u001b[0m\u001b[0mjoin\u001b[0m\u001b[0;34m(\u001b[0m \u001b[0mfirst_storie\u001b[0m\u001b[0;34m.\u001b[0m\u001b[0msplit\u001b[0m\u001b[0;34m(\u001b[0m\u001b[0;34m'\\n\\n'\u001b[0m\u001b[0;34m)\u001b[0m\u001b[0;34m[\u001b[0m\u001b[0;36m1\u001b[0m\u001b[0;34m:\u001b[0m\u001b[0;36m3\u001b[0m\u001b[0;34m]\u001b[0m\u001b[0;34m)\u001b[0m\u001b[0;34m\u001b[0m\u001b[0;34m\u001b[0m\u001b[0m\n\u001b[0;32m----> 6\u001b[0;31m     \u001b[0mtext\u001b[0m \u001b[0;34m=\u001b[0m \u001b[0mfirst_storie\u001b[0m\u001b[0;34m.\u001b[0m\u001b[0msplit\u001b[0m\u001b[0;34m(\u001b[0m\u001b[0;34m'\\n\\n \\n\\n'\u001b[0m\u001b[0;34m)\u001b[0m\u001b[0;34m[\u001b[0m\u001b[0;36m1\u001b[0m\u001b[0;34m]\u001b[0m\u001b[0;34m\u001b[0m\u001b[0;34m\u001b[0m\u001b[0m\n\u001b[0m\u001b[1;32m      7\u001b[0m     \u001b[0;32mreturn\u001b[0m \u001b[0mtitle_of_box\u001b[0m\u001b[0;34m,\u001b[0m \u001b[0mquestion\u001b[0m\u001b[0;34m,\u001b[0m \u001b[0mtext\u001b[0m\u001b[0;34m\u001b[0m\u001b[0;34m\u001b[0m\u001b[0m\n",
      "\u001b[0;31mIndexError\u001b[0m: list index out of range"
     ]
    }
   ],
   "source": [
    "title_of_box, question, text = sts_first_storie_box(first_storie)\n",
    "\n",
    "question = question.replace('\\n','')\n",
    "text = formating_text(text)"
   ]
  },
  {
   "cell_type": "code",
   "execution_count": 52,
   "id": "55193617",
   "metadata": {
    "ExecuteTime": {
     "end_time": "2022-11-30T19:37:33.360420Z",
     "start_time": "2022-11-30T19:37:33.346915Z"
    }
   },
   "outputs": [
    {
     "name": "stdout",
     "output_type": "stream",
     "text": [
      "Não, isso são só frases feitas. «O Brasil real...» Tudo que existe é real.\n",
      "\n",
      "Eu sou um sujeito ligeiramente Asperger que acorda cedo para escrever à mão e estudar, tomando um café da serra do Caparaó. Eu também sou o Brasil real.\n",
      "\n",
      "Não existe um Brasil que seja mais real do que os outros. Existe no máximo a força do número, que faz com que você ache que a Xuxa é mais Brasil do que Drummond.\n",
      "\n",
      "E para mim o Brasil xuxesco como que não existe. Só me lembro dele quando o encontro na rua. \n"
     ]
    }
   ],
   "source": [
    "print(text)"
   ]
  },
  {
   "cell_type": "code",
   "execution_count": 29,
   "id": "5cfefb63",
   "metadata": {
    "ExecuteTime": {
     "end_time": "2022-11-30T19:09:12.526034Z",
     "start_time": "2022-11-30T19:09:12.508005Z"
    }
   },
   "outputs": [
    {
     "name": "stdout",
     "output_type": "stream",
     "text": [
      "Diga lá\n",
      "\n",
      "O problema das iniciativas \"conservadoras\" no Brasil éestético, rejeita o BR real. Certo?\n",
      "\n",
      "Não, isso são só frases feitas. «O Brasil real...» Tudo que existe é real.\n",
      "\n",
      "Eu sou um sujeito ligeiramente Asperger que acorda cedo para escrever à mão e estudar, tomando um café da serra do Caparaó. Eu também sou o Brasil real.\n",
      "\n",
      "Não existe um Brasil que seja mais real do que os outros. Existe no máximo a força do número, que faz com que você ache que a Xuxa é mais Brasil do que Drummond.\n",
      "\n",
      "E para mim o Brasil xuxesco como que não existe. Só me lembro dele quando o encontro na rua. \n"
     ]
    }
   ],
   "source": [
    "print( title_of_box + '\\n\\n' + question + '\\n\\n' + text )"
   ]
  },
  {
   "cell_type": "markdown",
   "id": "ad13eef9",
   "metadata": {},
   "source": [
    "Join all files except first"
   ]
  },
  {
   "cell_type": "code",
   "execution_count": 30,
   "id": "1e90d0f8",
   "metadata": {
    "ExecuteTime": {
     "end_time": "2022-11-30T19:12:05.315290Z",
     "start_time": "2022-11-30T19:10:56.755731Z"
    }
   },
   "outputs": [],
   "source": [
    "all_text = ''\n",
    "for file in all_files[1:]:\n",
    "    page = ocr.image_to_string(Image.open(file), lang='por')\n",
    "    all_text += '\\n\\n' + formating_text(page)\n",
    "\n",
    "all_text = all_text[2:]"
   ]
  },
  {
   "cell_type": "code",
   "execution_count": 31,
   "id": "38f4c421",
   "metadata": {
    "ExecuteTime": {
     "end_time": "2022-11-30T19:14:19.668516Z",
     "start_time": "2022-11-30T19:14:19.654604Z"
    }
   },
   "outputs": [
    {
     "name": "stdout",
     "output_type": "stream",
     "text": [
      "Se tem uma coisa que me faz ter o pé atrás com o conservadorismo, é o casamento gay.\n",
      "\n",
      "Anos atrás, antes de ele ser aprovado em várias legislações ocidentais, os conservadores falavam dele como se fosse o apocalipse da sociedade. Havia argumentos histéricos e argumentos calmos e ponderados.\n",
      "\n",
      "Hoje, eu já vejo conservadores autodeclarados — no Brasil e nas várias gringolândias — declararem não ter problema nenhum com o casamento gay.\n",
      "\n",
      "(E, de fato, que coisa terrível aconteceu depois da aprovação do casamento gay? Nenhuma.) \n",
      "\n",
      "O problema do conservadorismo no Brasil e no mundo inteiro é uma certa ingenuidade.\n",
      "\n",
      "É achar que as coisas podem voltar a ser como os «conservadores» acham que elas foram um dia. Que podemos pôr o coelho de volta na cartola.\n",
      "\n",
      "É não entender que os conservadores são inclusive MAIS modernos do que os liberais — porque são uma reação a esses liberais.\n",
      "\n",
      "13 querer cooptar o cristianismo, como se ele fosse uma religião da ordem social imutável a ser restaurada, e não a religião do futuro aberto e do reino a ser construído.\n",
      "\n",
      "(E, a propósito, um dia fui ler Burke, e não consegui. Penteadeira total.) \n",
      "\n",
      "Isso me parece demonstrar o que eu dizia: o conservador é mais moderno do que pensa que é, e, além disso, a diferença entre ele e o terrível progressista...\n",
      "\n",
      "...são uns dez anos.\n",
      "\n",
      "Isso porque o conservadorismo parece mais querer resistir do que propor.\n",
      "\n",
      "E quem não propõe é levado. É assim num casal, é assim entre amigos. Alguém chama, os outros vão, mesmo relutando.\n",
      "\n",
      "No fim, quem teve iniciativa conseguiu o que queria.\n",
      "\n",
      "Resistir não é uma iniciativa. É cansativo, desgastante. Não é inspirador. Você admira quem vai à Lua, inventa um novo gênero literário, uma comida surpreendente. \n"
     ]
    }
   ],
   "source": [
    "print(all_text)"
   ]
  },
  {
   "cell_type": "markdown",
   "id": "41265219",
   "metadata": {},
   "source": [
    "# Create MarkdownFile"
   ]
  },
  {
   "cell_type": "code",
   "execution_count": 32,
   "id": "00f43eaa",
   "metadata": {
    "ExecuteTime": {
     "end_time": "2022-11-30T19:14:26.829872Z",
     "start_time": "2022-11-30T19:14:26.809176Z"
    }
   },
   "outputs": [],
   "source": [
    "md_file_name = path_to_folder + influencer_name + \"-{}.md\".format(int_random)\n",
    "with open(md_file_name,'w', encoding = 'utf-8') as f:\n",
    "    f.write(\"# {}\\n\\n\".format(question))\n",
    "    f.write(\"{}\".format(all_text))"
   ]
  },
  {
   "cell_type": "code",
   "execution_count": null,
   "id": "4b0cecff",
   "metadata": {},
   "outputs": [],
   "source": [
    "ffsfaf"
   ]
  },
  {
   "cell_type": "markdown",
   "id": "2f1f285e",
   "metadata": {},
   "source": [
    "# Caso não tiver box"
   ]
  },
  {
   "cell_type": "code",
   "execution_count": 53,
   "id": "5be14dee",
   "metadata": {
    "ExecuteTime": {
     "end_time": "2022-11-30T19:43:44.901521Z",
     "start_time": "2022-11-30T19:41:42.660048Z"
    }
   },
   "outputs": [],
   "source": [
    "all_text = ''\n",
    "for file in all_files[0:]:\n",
    "    page = ocr.image_to_string(Image.open(file), lang='por')\n",
    "    all_text += '\\n\\n' + formating_text(page)\n",
    "\n",
    "all_text = all_text[2:]"
   ]
  },
  {
   "cell_type": "code",
   "execution_count": 56,
   "id": "2889adae",
   "metadata": {
    "ExecuteTime": {
     "end_time": "2022-11-30T19:45:18.166608Z",
     "start_time": "2022-11-30T19:45:18.147852Z"
    }
   },
   "outputs": [],
   "source": [
    "md_file_name = path_to_folder + influencer_name + \"-{}.md\".format(int_random)\n",
    "with open(md_file_name,'w', encoding = 'utf-8') as f:\n",
    "    f.write(\"{}\".format(all_text))"
   ]
  },
  {
   "cell_type": "code",
   "execution_count": 55,
   "id": "4376724f",
   "metadata": {
    "ExecuteTime": {
     "end_time": "2022-11-30T19:44:36.494969Z",
     "start_time": "2022-11-30T19:44:36.483193Z"
    }
   },
   "outputs": [
    {
     "name": "stdout",
     "output_type": "stream",
     "text": [
      "Dizem que “futebol não é coisa de intelectual” mas observar o fenômeno futebolístico carioca pode ser muito esclarecedor para compreender o bigodão.\n",
      "\n",
      "Quem mora aqui, sabe que Vasco e Flamengo são inimigos irreconciliáveis. E em terras guanarabenses acontece uma coisa muito interessante.\n",
      "\n",
      "Os vascaínos sentem mais alegria quando o «Flamengo perde» do que quando o «Vasco ganha». O vascaíno morre de felicidade quando o seu rival não se afirma.\n",
      "\n",
      " \n",
      "\n",
      "O vascaíno, sabendo que o seu time do coração não é capaz de grandes conquistas, coloca todas as suas esperanças na derrota do seu rival. A maior ambição do vascaíno, é ver o Flamengo ser humilhado!\n",
      "\n",
      "Os fracassados, são contra a afirmação do forte. Eles não vencem, e não querem que os outros vençam. São ressentidos, em sua alma habita o mais impotente ódio contra os vencedores. Já que eles próprios não são capazes da conquista, eles vivem para tentar impedir que o forte se afirme.\n",
      "\n",
      " \n",
      "\n",
      "O flamenguista, ao contrário, não liga muito para o Vasco. O seu time lhe traz tantas alegrias, que ele ignora o inimigo.\n",
      "\n",
      "Os fortes se afirmam pelo SIM. Eles querem, vão atrás, e conseguem. Se afirmam pela sua grande capacidade!\n",
      "\n",
      "Já os fracos, se afirmam pelo NÃO. Eles não se afirmam por conquistas, eles se afirmam querendo que o outro não conquiste.\n",
      "\n",
      " \n",
      "\n",
      "O grande Padre Paulo é o forte! É o [of To São capaz! É cheio de vida para dar e vender! É um aristocrata!\n",
      "\n",
      "O site dele está lá, cheio de aulas. Ele produz. Os fortes produzem. Um gênio, um intelectual de primeira!\n",
      "\n",
      "Ele grava os seus cursos, se afirma pela sua grande capacidade. Seus cursos enchem de alunos, que saem felizes de ver a vida acontecendo. \n",
      "\n",
      "O fraco, o ressentindo, o doente, não se afirma criando algo tão bom quanto o do Padre Paulo. Porque ele não é capaz de grandes conquistas. Ele não é capaz de alcançar o sucesso. O fraco sempre se afirma dizendo NÃO ao forte!\n",
      "\n",
      "Ele não quer que o forte se afirme, ele não quer que o forte vença, odeia que o forte produza! O ressentido vive para tentar travar a potência dos aristocratas. O fraco Aedo to onte Rei bA cio Te (oo Lico Nro ac ot E \n",
      "\n",
      "Por que os que se incomodaram tanto com uma pessoa vendendo uma «lista» não criaram uma lista melhor, e entregaram de graça?\n",
      "\n",
      "Porque os fracos nunca se afirmam pela sua própria capacidade. Eles se afirmam querendo que o forte não exerça a capacidade que tem.\n",
      "\n",
      " \n",
      "\n",
      "Anote isso: os fracos não se afirmam pela capacidade que tem, eles se afirmam destruindo o forte, para que o forte não exerça a sua capacidade.\n",
      "\n",
      "Por isso que eles não criaram uma ista, e entregaram de graça. lista, e entregaram de graça\n",
      "\n",
      "Eles atacam aqueles que produzem\n",
      "\n",
      "Porque odeiam os capazes\n",
      "\n",
      " \n",
      "\n",
      "Romário é tão gigante, que não deixa ninguém travar sua capacidade.\n",
      "\n",
      "O próximo story é o ouro. Vejam a definição de «vontade de poder ativa», em ação!\n",
      "\n",
      " \n",
      "\n",
      "  \n",
      "\n",
      "Pelé agiu feito um passivo, e recebeu uma resposta inesquecível. N ;\n",
      "\n",
      "N \n",
      "\n",
      "Romário é a definição de força. Coragem. Capacidade.\n",
      "\n",
      "Um dos maiores jogadores de todos os tempos.\n",
      "\n",
      "Que nunca permitiu que o travassem.\n",
      "\n",
      "Ele é a antitese dos fracos. Elogia até os seus críticos.\n",
      "\n",
      "Porque o forte se afirma pela própria capacidade, nunca rebaixa quem não merece. \n"
     ]
    }
   ],
   "source": [
    "print(all_text)"
   ]
  },
  {
   "cell_type": "code",
   "execution_count": null,
   "id": "61d3b3a9",
   "metadata": {},
   "outputs": [],
   "source": []
  }
 ],
 "metadata": {
  "kernelspec": {
   "display_name": "Python 3",
   "language": "python",
   "name": "python3"
  },
  "language_info": {
   "codemirror_mode": {
    "name": "ipython",
    "version": 3
   },
   "file_extension": ".py",
   "mimetype": "text/x-python",
   "name": "python",
   "nbconvert_exporter": "python",
   "pygments_lexer": "ipython3",
   "version": "3.9.5"
  },
  "toc": {
   "base_numbering": 1,
   "nav_menu": {},
   "number_sections": true,
   "sideBar": true,
   "skip_h1_title": false,
   "title_cell": "Table of Contents",
   "title_sidebar": "Contents",
   "toc_cell": false,
   "toc_position": {},
   "toc_section_display": true,
   "toc_window_display": false
  }
 },
 "nbformat": 4,
 "nbformat_minor": 5
}
